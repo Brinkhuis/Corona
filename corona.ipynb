{
 "cells": [
  {
   "cell_type": "markdown",
   "metadata": {},
   "source": [
    "## Thematic map (chorophlet) in Julia\n",
    "Covid-19 cases per 100.000 inhabitants"
   ]
  },
  {
   "cell_type": "markdown",
   "metadata": {},
   "source": [
    "#### Modules"
   ]
  },
  {
   "cell_type": "code",
   "execution_count": 1,
   "metadata": {},
   "outputs": [],
   "source": [
    "# Loading modules\n",
    "using CSV\n",
    "using DataFrames\n",
    "using Dates\n",
    "using Shapefile\n",
    "using ZipFile\n",
    "using Plots\n",
    "using ColorSchemes"
   ]
  },
  {
   "cell_type": "markdown",
   "metadata": {},
   "source": [
    "#### Directories"
   ]
  },
  {
   "cell_type": "code",
   "execution_count": 2,
   "metadata": {},
   "outputs": [],
   "source": [
    "# Create directorties\n",
    "for dir in [\"data\", \"downloads\", \"shapefiles\", \"output\"]\n",
    "    path = joinpath(pwd(), dir)\n",
    "    if !ispath(path)\n",
    "        mkpath(path)\n",
    "    end\n",
    "end"
   ]
  },
  {
   "cell_type": "markdown",
   "metadata": {},
   "source": [
    "#### Covid data"
   ]
  },
  {
   "cell_type": "code",
   "execution_count": 3,
   "metadata": {},
   "outputs": [],
   "source": [
    "# Download csv file\n",
    "csv_url = \"https://data.rivm.nl/covid-19/COVID-19_aantallen_gemeente_per_dag.csv\"\n",
    "csv_loc = joinpath(pwd(), \"data\", split(csv_url, \"/\")[end])\n",
    "download(csv_url, csv_loc)\n",
    "\n",
    "# Read data\n",
    "covid = CSV.File(csv_loc, pool=false) |> DataFrame\n",
    "\n",
    "# Select columns of interest\n",
    "select!(covid, [\"Date_of_publication\", \"Municipality_name\", \"Total_reported\"])\n",
    "\n",
    "# Drop NA's\n",
    "dropmissing!(covid)\n",
    "\n",
    "# Sum multiple data points for a municipality on the same date\n",
    "covid = combine(groupby(covid, [:Date_of_publication, :Municipality_name]), :Total_reported .=> sum .=> :Total_reported);"
   ]
  },
  {
   "cell_type": "markdown",
   "metadata": {},
   "source": [
    "#### Shapefiles"
   ]
  },
  {
   "cell_type": "code",
   "execution_count": 4,
   "metadata": {},
   "outputs": [],
   "source": [
    "# Download shapefiles\n",
    "zip_url = \"https://download.cbs.nl/regionale-kaarten/wijkbuurtkaart_2023_v1.zip\"\n",
    "zip_loc = joinpath(pwd(), \"downloads\", split(zip_url, \"/\")[end])\n",
    "if ~isfile(zip_loc)\n",
    "    download(zip_url, zip_loc)\n",
    "end\n",
    "\n",
    "# Extract municipality (gemeente) files\n",
    "prefix = \"gemeente\"\n",
    "r = ZipFile.Reader(zip_loc)\n",
    "for f in r.files\n",
    "    file_name = split(f.name, \"/\")[end]\n",
    "    if startswith(file_name, prefix)\n",
    "        # println(\"Extracting: $(file_name)\")\n",
    "        open(joinpath(pwd(), \"shapefiles\", file_name), \"w\") do io\n",
    "            write(io, read(f))\n",
    "        end\n",
    "        if split(file_name, \".\")[end] == \"shp\"\n",
    "            name_shapefile = file_name\n",
    "            global path_shapefile = joinpath(pwd(), \"shapefiles\", name_shapefile)\n",
    "            # println(path_shapefile)\n",
    "        end\n",
    "    end\n",
    "end\n",
    "\n",
    "# Read shapefile\n",
    "table = Shapefile.Table(path_shapefile)\n",
    "\n",
    "# Create geodataframe\n",
    "gdf = table |> DataFrame\n",
    "\n",
    "# Filter for land (i.e. not water)\n",
    "filter!(:H2O => ==(\"NEE\"), gdf)\n",
    "\n",
    "# Select columns of interest\n",
    "select!(gdf, [\"GM_NAAM\", \"AANT_INW\", \"geometry\"]);"
   ]
  },
  {
   "cell_type": "markdown",
   "metadata": {},
   "source": [
    "#### Join dataframes"
   ]
  },
  {
   "cell_type": "code",
   "execution_count": 5,
   "metadata": {},
   "outputs": [],
   "source": [
    "# Date of publication\n",
    "Date_of_publication = Date(2022, 2, 22)\n",
    "\n",
    "# Join data\n",
    "df = leftjoin(\n",
    "    gdf, \n",
    "    covid[covid.Date_of_publication .== Date_of_publication, [\"Municipality_name\", \"Total_reported\"]], \n",
    "    on = \"GM_NAAM\" => \"Municipality_name\"\n",
    ")\n",
    "\n",
    "# Add column\n",
    "df.total_per_100k = df.Total_reported .* (100_000 ./ df.AANT_INW)\n",
    "\n",
    "# Select columns of interest\n",
    "select!(df, [:geometry, :total_per_100k]);"
   ]
  },
  {
   "cell_type": "markdown",
   "metadata": {},
   "source": [
    "#### Plot thematic map (chorophlet)"
   ]
  },
  {
   "cell_type": "code",
   "execution_count": 6,
   "metadata": {},
   "outputs": [],
   "source": [
    "plot_size = (600, 650);"
   ]
  },
  {
   "cell_type": "markdown",
   "metadata": {},
   "source": [
    "##### Solution 1"
   ]
  },
  {
   "cell_type": "code",
   "execution_count": 7,
   "metadata": {},
   "outputs": [
    {
     "data": {
      "text/plain": [
       "\"/Users/rene/Documents/Projects/Github/Corona/output/fig1.png\""
      ]
     },
     "metadata": {},
     "output_type": "display_data"
    }
   ],
   "source": [
    "# complete rows\n",
    "df1 = filter(row -> !ismissing(row.total_per_100k), df)\n",
    "\n",
    "# plot complete rows\n",
    "p1 = plot(\n",
    "    df1.geometry, \n",
    "    fill = palette(:inferno), \n",
    "    fill_z = reshape(df1.total_per_100k, 1, nrow(df1)), \n",
    "    linecolor = \"white\", \n",
    "    linewidth = .5, \n",
    "    title = \"COVID-19 Cases per 100,000 Inhabitants\\n$(string(Date_of_publication))\", \n",
    "    axis = false, \n",
    "    ticks = false, \n",
    "    size = plot_size, \n",
    ")\n",
    "\n",
    "# incomplete rows\n",
    "df2 = filter(row -> ismissing(row.total_per_100k), df)\n",
    "\n",
    "# plot incomplete rows\n",
    "plot!(\n",
    "    df2.geometry, \n",
    "    color = \"grey\", \n",
    "    linecolor = \"white\", \n",
    "    linewidth = .5, \n",
    "    axis = false, \n",
    "    ticks = false, \n",
    "    size = plot_size, \n",
    ")\n",
    "\n",
    "savefig(p1 , joinpath(\"output\", \"fig1.png\"))"
   ]
  },
  {
   "cell_type": "markdown",
   "metadata": {},
   "source": [
    "![Figure 1](output/fig1.png)"
   ]
  },
  {
   "cell_type": "markdown",
   "metadata": {},
   "source": [
    "##### Solution 2"
   ]
  },
  {
   "cell_type": "code",
   "execution_count": 8,
   "metadata": {},
   "outputs": [
    {
     "data": {
      "text/plain": [
       "\"/Users/rene/Documents/Projects/Github/Corona/output/fig2.png\""
      ]
     },
     "metadata": {},
     "output_type": "display_data"
    }
   ],
   "source": [
    "# complete rows\n",
    "df1 = filter(row -> !ismissing(row.total_per_100k), df)\n",
    "\n",
    "# Covert column to integers\n",
    "df1.total_per_100k = [Int(round(x, digits = 0)) for x in df1.total_per_100k]\n",
    "\n",
    "# plot complete rows\n",
    "p2 = plot(\n",
    "    df1.geometry, \n",
    "    color = palette(:viridis), \n",
    "    fill_z = permutedims(df1.total_per_100k), \n",
    "    linecolor = \"white\", \n",
    "    linewidth = .5, \n",
    "    axis = false, \n",
    "    ticks = false, \n",
    "    title = \"COVID-19 Cases per 100,000 Inhabitants\\n$(string(Date_of_publication))\", \n",
    "    size = plot_size, \n",
    ")\n",
    "\n",
    "# incomplete rows\n",
    "df2 = filter(row -> ismissing(row.total_per_100k), df)\n",
    "\n",
    "# plot incomplete rows\n",
    "plot!(\n",
    "    df2.geometry, \n",
    "    color = \"grey\", \n",
    "    linecolor = \"white\", \n",
    "    linewidth = .5, \n",
    "    axis = false, \n",
    "    ticks = false, \n",
    "    size = plot_size, \n",
    ")\n",
    "\n",
    "savefig(p2 , joinpath(\"output\", \"fig2.png\"))"
   ]
  },
  {
   "cell_type": "markdown",
   "metadata": {},
   "source": [
    "![Figure 1](output/fig2.png)"
   ]
  },
  {
   "cell_type": "markdown",
   "metadata": {},
   "source": [
    "#### Cleanup"
   ]
  },
  {
   "cell_type": "code",
   "execution_count": 9,
   "metadata": {},
   "outputs": [],
   "source": [
    "covid = nothing\n",
    "table = nothing\n",
    "gdf = nothing\n",
    "df = nothing\n",
    "df1 = nothing\n",
    "df2 = nothing\n",
    "p1 = nothing\n",
    "p2 = nothing"
   ]
  }
 ],
 "metadata": {
  "kernelspec": {
   "display_name": "Julia 1.10.1",
   "language": "julia",
   "name": "julia-1.10"
  },
  "language_info": {
   "file_extension": ".jl",
   "mimetype": "application/julia",
   "name": "julia",
   "version": "1.10.1"
  },
  "orig_nbformat": 4
 },
 "nbformat": 4,
 "nbformat_minor": 2
}
